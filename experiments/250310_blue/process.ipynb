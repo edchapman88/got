{
 "cells": [
  {
   "cell_type": "code",
   "execution_count": 1,
   "metadata": {},
   "outputs": [
    {
     "name": "stdout",
     "output_type": "stream",
     "text": [
      "[1741625022695154988] {\"ok_rate\":\"0.20\",\"green_blocked\":false,\"red_blocked\":true,\"reward\":0}[1741625022695261209] Wait[1741625032723637801] {\"ok_rate\":\"20.00\",\"green_blocked\":false,\"red_blocked\":true,\"reward\":1}[1741625032723711855] ToggleRed[1741625042814945990] {\"ok_rate\":\"19.80\",\"green_blocked\":false,\"red_blocked\":false,\"reward\":1}[1741625042815032989] ToggleGreen[1741625052871764054] {\"ok_rate\":\"0.00\",\"green_blocked\":true,\"red_blocked\":false,\"reward\":0}[1741625052871846089] Wait[1741625062899743226] {\"ok_rate\":\"0.00\",\"green_blocked\":true,\"red_blocked\":false,\"reward\":0}[1741625062899838094] ToggleGreen[1741625072998134382] {\"ok_rate\":\"14.60\",\"green_blocked\":false,\"red_blocked\":false,\"reward\":0}[1741625072998214733] Wait[1741625083029099564] {\"ok_rate\":\"29.00\",\"green_blocked\":false,\"red_blocked\":false,\"reward\":1}[1741625083029187525] Wait[1741625093062014646] {\"ok_rate\":\"26.80\",\"green_blocked\":false,\"red_blocked\":false,\"reward\":1}[1741625093062099163] ToggleGreen[1741625103120453214] {\"ok_rate\":\"12.00\",\"green_blocked\":true,\"red_blocked\":false,\"reward\":0}[1741625103120540045] ToggleRed[1741625113176626525] {\"ok_rate\":\"0.00\",\"green_blocked\":true,\"red_blocked\":true,\"reward\":0}[1741625113176712116] ToggleRed[1741625123246705272] {\"ok_rate\":\"0.00\",\"green_blocked\":true,\"red_blocked\":false,\"reward\":0}[1741625123246788807] ToggleGreen[1741625133322730065] {\"ok_rate\":\"15.20\",\"green_blocked\":false,\"red_blocked\":false,\"reward\":0}[1741625133322813859] ToggleRed[1741625143379443081] {\"ok_rate\":\"32.40\",\"green_blocked\":false,\"red_blocked\":true,\"reward\":1}[1741625143379529839] ToggleRed[1741625153455491287] {\"ok_rate\":\"13.40\",\"green_blocked\":false,\"red_blocked\":false,\"reward\":0}[1741625153455578878] ToggleGreen[1741625163513483116] {\"ok_rate\":\"26.20\",\"green_blocked\":true,\"red_blocked\":false,\"reward\":1}[1741625163513570540] Wait[1741625173541749184] {\"ok_rate\":\"0.00\",\"green_blocked\":true,\"red_blocked\":false,\"reward\":0}[1741625173541927811] ToggleGreen[1741625183626710576] {\"ok_rate\":\"12.40\",\"green_blocked\":false,\"red_blocked\":false,\"reward\":0}[1741625183626784556] ToggleRed[1741625193683191366] {\"ok_rate\":\"41.80\",\"green_blocked\":false,\"red_blocked\":true,\"reward\":1}[1741625193683273235] Wait[1741625203711330699] {\"ok_rate\":\"26.20\",\"green_blocked\":false,\"red_blocked\":true,\"reward\":1}[1741625203711422253] ToggleRed[1741625213791268376] {\"ok_rate\":\"26.20\",\"green_blocked\":false,\"red_blocked\":false,\"reward\":1}[1741625213791356523] ToggleRed[1741625223848892825] {\"ok_rate\":\"26.20\",\"green_blocked\":false,\"red_blocked\":true,\"reward\":1}[1741625223848970675] ToggleRed[1741625233943065941] {\"ok_rate\":\"26.20\",\"green_blocked\":false,\"red_blocked\":false,\"reward\":1}[1741625233943149328] Wait[1741625243971803887] {\"ok_rate\":\"19.80\",\"green_blocked\":false,\"red_blocked\":false,\"reward\":1}[1741625243971881385] Wait[1741625254000336695] {\"ok_rate\":\"20.00\",\"green_blocked\":false,\"red_blocked\":false,\"reward\":1}[1741625254000433582] ToggleGreen[1741625264058478446] {\"ok_rate\":\"0.00\",\"green_blocked\":true,\"red_blocked\":false,\"reward\":0}[1741625264058612481] ToggleRed[1741625274114150149] {\"ok_rate\":\"0.00\",\"green_blocked\":true,\"red_blocked\":true,\"reward\":0}[1741625274114235685] ToggleRed[1741625284194664612] {\"ok_rate\":\"0.00\",\"green_blocked\":true,\"red_blocked\":false,\"reward\":0}[1741625284194755388] ToggleRed[1741625294252096472] {\"ok_rate\":\"0.00\",\"green_blocked\":true,\"red_blocked\":true,\"reward\":0}[1741625294252181490] ToggleRed[1741625304326728400] {\"ok_rate\":\"0.00\",\"green_blocked\":true,\"red_blocked\":false,\"reward\":0}[1741625304326810862] ToggleRed[1741625314382355656] {\"ok_rate\":\"0.00\",\"green_blocked\":true,\"red_blocked\":true,\"reward\":0}[1741625314382443451] ToggleGreen[1741625324467438070] {\"ok_rate\":\"12.60\",\"green_blocked\":false,\"red_blocked\":true,\"reward\":0}[1741625324467608715] ToggleRed[1741625334558613711] {\"ok_rate\":\"38.00\",\"green_blocked\":false,\"red_blocked\":false,\"reward\":1}[1741625334558687043] Wait[1741625344588411369] {\"ok_rate\":\"70.80\",\"green_blocked\":false,\"red_blocked\":false,\"reward\":1}[1741625344588489442] Wait[1741625354616801188] {\"ok_rate\":\"20.60\",\"green_blocked\":false,\"red_blocked\":false,\"reward\":1}[1741625354616925853] Wait[1741625364645690986] {\"ok_rate\":\"26.20\",\"green_blocked\":false,\"red_blocked\":false,\"reward\":1}[1741625364645791799] Wait[1741625374674763341] {\"ok_rate\":\"26.20\",\"green_blocked\":false,\"red_blocked\":false,\"reward\":1}[1741625374674853321] Wait[1741625384702991102] {\"ok_rate\":\"26.40\",\"green_blocked\":false,\"red_blocked\":false,\"reward\":1}[1741625384703078026] Wait[1741625394731496359] {\"ok_rate\":\"26.20\",\"green_blocked\":false,\"red_blocked\":false,\"reward\":1}[1741625394731579487] Wait[1741625404760587107] {\"ok_rate\":\"26.20\",\"green_blocked\":false,\"red_blocked\":false,\"reward\":1}[1741625404760671124] Wait[1741625414790417138] {\"ok_rate\":\"26.20\",\"green_blocked\":false,\"red_blocked\":false,\"reward\":1}[1741625414790502136] Wait[1741625424818783282] {\"ok_rate\":\"19.80\",\"green_blocked\":false,\"red_blocked\":false,\"reward\":1}[1741625424818858874] Wait[1741625434848012538] {\"ok_rate\":\"19.80\",\"green_blocked\":false,\"red_blocked\":false,\"reward\":1}[1741625434848087722] Wait[1741625444876219212] {\"ok_rate\":\"19.80\",\"green_blocked\":false,\"red_blocked\":false,\"reward\":1}[1741625444876294600] Wait[1741625454904363251] {\"ok_rate\":\"19.80\",\"green_blocked\":false,\"red_blocked\":false,\"reward\":1}[1741625454904451157] Wait[1741625464933389434] {\"ok_rate\":\"19.80\",\"green_blocked\":false,\"red_blocked\":false,\"reward\":1}[1741625464933468710] Wait[1741625474961732359] {\"ok_rate\":\"19.80\",\"green_blocked\":false,\"red_blocked\":false,\"reward\":1}[1741625474961856060] Wait[1741625484989934109] {\"ok_rate\":\"19.80\",\"green_blocked\":false,\"red_blocked\":false,\"reward\":1}[1741625484990010589] Wait[1741625495018668153] {\"ok_rate\":\"20.00\",\"green_blocked\":false,\"red_blocked\":false,\"reward\":1}[1741625495018748744] Wait[1741625505047809807] {\"ok_rate\":\"19.80\",\"green_blocked\":false,\"red_blocked\":false,\"reward\":1}[1741625505047890250] Wait[1741625515075775762] {\"ok_rate\":\"19.80\",\"green_blocked\":false,\"red_blocked\":false,\"reward\":1}[1741625515075843909] Wait[1741625525104247693] {\"ok_rate\":\"19.80\",\"green_blocked\":false,\"red_blocked\":false,\"reward\":1}[1741625525104329617] Wait[1741625535133188118] {\"ok_rate\":\"20.00\",\"green_blocked\":false,\"red_blocked\":false,\"reward\":1}[1741625535133274228] Wait[1741625545161614275] {\"ok_rate\":\"19.80\",\"green_blocked\":false,\"red_blocked\":false,\"reward\":1}[1741625545161690051] Wait[1741625555190020543] {\"ok_rate\":\"19.80\",\"green_blocked\":false,\"red_blocked\":false,\"reward\":1}[1741625555190108523] Wait[1741625565218581158] {\"ok_rate\":\"19.80\",\"green_blocked\":false,\"red_blocked\":false,\"reward\":1}[1741625565218658064] Wait[1741625575247741873] {\"ok_rate\":\"19.80\",\"green_blocked\":false,\"red_blocked\":false,\"reward\":1}[1741625575247817279] Wait[1741625585276065949] {\"ok_rate\":\"19.80\",\"green_blocked\":false,\"red_blocked\":false,\"reward\":1}[1741625585276137800] Wait[1741625595304647554] {\"ok_rate\":\"20.00\",\"green_blocked\":false,\"red_blocked\":false,\"reward\":1}[1741625595304723053] Wait[1741625605333316559] {\"ok_rate\":\"20.00\",\"green_blocked\":false,\"red_blocked\":false,\"reward\":1}[1741625605333386428] Wait[1741625615361938503] {\"ok_rate\":\"20.00\",\"green_blocked\":false,\"red_blocked\":false,\"reward\":1}[1741625615362013391] Wait[1741625625390001745] {\"ok_rate\":\"19.80\",\"green_blocked\":false,\"red_blocked\":false,\"reward\":1}[1741625625390077411] Wait[1741625635418474972] {\"ok_rate\":\"19.60\",\"green_blocked\":false,\"red_blocked\":false,\"reward\":1}[1741625635418561063] Wait[1741625645446717045] {\"ok_rate\":\"19.40\",\"green_blocked\":false,\"red_blocked\":false,\"reward\":1}[1741625645446792674] Wait[1741625655475888463] {\"ok_rate\":\"16.40\",\"green_blocked\":false,\"red_blocked\":false,\"reward\":1}[1741625655475966184] Wait[1741625665504200329] {\"ok_rate\":\"16.20\",\"green_blocked\":false,\"red_blocked\":false,\"reward\":1}[1741625665504278587] Wait[1741625675532459443] {\"ok_rate\":\"16.40\",\"green_blocked\":false,\"red_blocked\":false,\"reward\":1}[1741625675532543645] Wait[1741625685561317201] {\"ok_rate\":\"20.00\",\"green_blocked\":false,\"red_blocked\":false,\"reward\":1}[1741625685561399773] Wait[1741625695589617399] {\"ok_rate\":\"20.00\",\"green_blocked\":false,\"red_blocked\":false,\"reward\":1}[1741625695589734156] Wait\n"
     ]
    }
   ],
   "source": [
    "with open('./logs/hilbert/2025-03-10_16-43-42.694946.txt','r') as f:\n",
    "    data = f.read()\n",
    "\n",
    "print(data)"
   ]
  },
  {
   "cell_type": "code",
   "execution_count": 6,
   "metadata": {},
   "outputs": [],
   "source": [
    "lines = [f'[{s}' for s in data.split('[')][1:]\n",
    "with open('./logs/hilbert/2025-03-10_16-43-42.694946_edit.txt','w') as f:\n",
    "    f.writelines([f'{line}\\n' for line in lines])"
   ]
  }
 ],
 "metadata": {
  "kernelspec": {
   "display_name": ".venv",
   "language": "python",
   "name": "python3"
  },
  "language_info": {
   "codemirror_mode": {
    "name": "ipython",
    "version": 3
   },
   "file_extension": ".py",
   "mimetype": "text/x-python",
   "name": "python",
   "nbconvert_exporter": "python",
   "pygments_lexer": "ipython3",
   "version": "3.10.10"
  }
 },
 "nbformat": 4,
 "nbformat_minor": 2
}
